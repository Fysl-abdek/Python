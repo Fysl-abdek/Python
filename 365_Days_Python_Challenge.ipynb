{
 "cells": [
  {
   "attachments": {},
   "cell_type": "markdown",
   "metadata": {},
   "source": [
    "# Day #001\n",
    "\n",
    "line continuation characters in python"
   ]
  },
  {
   "cell_type": "code",
   "execution_count": 14,
   "metadata": {},
   "outputs": [
    {
     "name": "stdout",
     "output_type": "stream",
     "text": [
      "I know python and its very easy for evreyone\n"
     ]
    }
   ],
   "source": [
    "print(\"I know python and its very easy for evreyone\")"
   ]
  },
  {
   "cell_type": "code",
   "execution_count": 5,
   "metadata": {},
   "outputs": [
    {
     "ename": "SyntaxError",
     "evalue": "EOL while scanning string literal (3307123080.py, line 1)",
     "output_type": "error",
     "traceback": [
      "\u001b[1;36m  Input \u001b[1;32mIn [5]\u001b[1;36m\u001b[0m\n\u001b[1;33m    print(\"I know python and\u001b[0m\n\u001b[1;37m                             ^\u001b[0m\n\u001b[1;31mSyntaxError\u001b[0m\u001b[1;31m:\u001b[0m EOL while scanning string literal\n"
     ]
    }
   ],
   "source": [
    "print(\"I know python and \n",
    "its very easy for evreyone\")"
   ]
  },
  {
   "cell_type": "code",
   "execution_count": 4,
   "metadata": {},
   "outputs": [
    {
     "name": "stdout",
     "output_type": "stream",
     "text": [
      "I know python and its very easy for evreyone\n"
     ]
    }
   ],
   "source": [
    "# In python a backslash (\\) is a continuation character\n",
    "\n",
    "print(\"I know python and \\\n",
    "its very easy for evreyone\")"
   ]
  },
  {
   "attachments": {},
   "cell_type": "markdown",
   "metadata": {},
   "source": [
    "# Day #002\n",
    "\n",
    "Count Character Occurrences "
   ]
  },
  {
   "cell_type": "code",
   "execution_count": 10,
   "metadata": {},
   "outputs": [
    {
     "name": "stdout",
     "output_type": "stream",
     "text": [
      "{'c': 2, 'l': 1, 'o': 1, 'd': 1, 'i': 1, 'n': 1, 'g': 1}\n"
     ]
    }
   ],
   "source": [
    "def count_characters(s):\n",
    "   count = {}\n",
    "   for i in s:\n",
    "      if i in count:\n",
    "         count[i] += 1\n",
    "      else:\n",
    "         count[i] = 1\n",
    "   print(count)\n",
    "\n",
    "word = input(\"Enter your string:\")\n",
    "\n",
    "count_characters(word)\n"
   ]
  },
  {
   "attachments": {},
   "cell_type": "markdown",
   "metadata": {},
   "source": [
    "# Day #003\n",
    "\n",
    "Palindrome Words "
   ]
  },
  {
   "cell_type": "code",
   "execution_count": 11,
   "metadata": {},
   "outputs": [
    {
     "name": "stdout",
     "output_type": "stream",
     "text": [
      "['mom', 'lol']\n"
     ]
    }
   ],
   "source": [
    "def palindrome(sentence):\n",
    "   for i in (\",.'?/><}{{}}'\"):\n",
    "      sentence = sentence.replace(i ,\"\")\n",
    "   palindrome = []\n",
    "   for word in sentence.split(\" \"):\n",
    "      if word == word[::-1]:\n",
    "         palindrome.append(word)\n",
    "   print(palindrome)\n",
    "\n",
    "sentence = input(\"Enter Your sentences:\")\n",
    "\n",
    "palindrome(sentence)"
   ]
  },
  {
   "attachments": {},
   "cell_type": "markdown",
   "metadata": {},
   "source": [
    "# Day #004\n",
    "last common multiply (LCM)"
   ]
  },
  {
   "cell_type": "code",
   "execution_count": 13,
   "metadata": {},
   "outputs": [
    {
     "name": "stdout",
     "output_type": "stream",
     "text": [
      "48\n"
     ]
    }
   ],
   "source": [
    "def last_common_multiple(a,b):\n",
    "   if a > b:\n",
    "      greater = a\n",
    "   elif b > a:\n",
    "      greater = b\n",
    "   while True:\n",
    "      if (greater % a == 0) and (greater % b == 0):\n",
    "         lcm = greater\n",
    "         break\n",
    "      greater += 1\n",
    "   return lcm\n",
    "\n",
    "a = int(input('Enter first number:'))\n",
    "b = int(input('Enter sound number:'))\n",
    "\n",
    "print(last_common_multiple(a,b))\n"
   ]
  },
  {
   "attachments": {},
   "cell_type": "markdown",
   "metadata": {},
   "source": [
    "# Day #005\n",
    "\n",
    "Roman Numbers to the Decimals"
   ]
  },
  {
   "cell_type": "code",
   "execution_count": 16,
   "metadata": {},
   "outputs": [
    {
     "name": "stdout",
     "output_type": "stream",
     "text": [
      "11\n"
     ]
    }
   ],
   "source": [
    "tillies = {'I':1,'V':5,'X':10,'L':50,'C':100,'D':500,'M':1000}\n",
    "\n",
    "def RomanNumeralToDecimal(romanNumeral):\n",
    "   sum = 0\n",
    "   for i in range(len(romanNumeral) - 1):\n",
    "      lefet = romanNumeral[i]\n",
    "      right = romanNumeral[i + 1]\n",
    "      if tillies[lefet] < tillies[right]:\n",
    "         sum -= tillies[lefet]\n",
    "      else:\n",
    "         sum += tillies[lefet]\n",
    "   sum += tillies[romanNumeral[-1]]\n",
    "   return sum\n",
    "\n",
    "romanNumeral = input(\"Enter romanNumeral:\")\n",
    "print(RomanNumeralToDecimal(romanNumeral=romanNumeral))"
   ]
  }
 ],
 "metadata": {
  "kernelspec": {
   "display_name": "Python 3",
   "language": "python",
   "name": "python3"
  },
  "language_info": {
   "codemirror_mode": {
    "name": "ipython",
    "version": 3
   },
   "file_extension": ".py",
   "mimetype": "text/x-python",
   "name": "python",
   "nbconvert_exporter": "python",
   "pygments_lexer": "ipython3",
   "version": "3.9.7"
  },
  "orig_nbformat": 4
 },
 "nbformat": 4,
 "nbformat_minor": 2
}
